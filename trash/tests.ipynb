{
 "cells": [
  {
   "cell_type": "code",
   "execution_count": 6,
   "metadata": {},
   "outputs": [],
   "source": [
    "import pandas as pd\n",
    "import matplotlib.pyplot as plt\n",
    "import helper_functions as hf\n",
    "import pyarrow.parquet as pq"
   ]
  },
  {
   "cell_type": "code",
   "execution_count": null,
   "metadata": {},
   "outputs": [],
   "source": [
    "yellow_data = hf.load_data('taxi_data/yellow_tripdata_2024-')"
   ]
  },
  {
   "cell_type": "code",
   "execution_count": null,
   "metadata": {},
   "outputs": [],
   "source": [
    "green_data = hf.read_taxi_files('data_files/green_taxi_data/green_tripdata_2024-', 1)"
   ]
  },
  {
   "cell_type": "code",
   "execution_count": 9,
   "metadata": {},
   "outputs": [
    {
     "data": {
      "text/plain": [
       "Index(['VendorID', 'lpep_pickup_datetime', 'lpep_dropoff_datetime',\n",
       "       'store_and_fwd_flag', 'RatecodeID', 'PULocationID', 'DOLocationID',\n",
       "       'passenger_count', 'trip_distance', 'fare_amount', 'extra', 'mta_tax',\n",
       "       'tip_amount', 'tolls_amount', 'ehail_fee', 'improvement_surcharge',\n",
       "       'total_amount', 'payment_type', 'trip_type', 'congestion_surcharge'],\n",
       "      dtype='object')"
      ]
     },
     "execution_count": 9,
     "metadata": {},
     "output_type": "execute_result"
    }
   ],
   "source": [
    "green_data.columns"
   ]
  },
  {
   "cell_type": "code",
   "execution_count": 3,
   "metadata": {},
   "outputs": [],
   "source": [
    "fhv_data = hf.read_taxi_files('data_files/fhv_data/fhv_tripdata_2024-', 1)"
   ]
  },
  {
   "cell_type": "code",
   "execution_count": 4,
   "metadata": {},
   "outputs": [
    {
     "data": {
      "text/plain": [
       "Index(['dispatching_base_num', 'pickup_datetime', 'dropOff_datetime',\n",
       "       'PUlocationID', 'DOlocationID', 'SR_Flag', 'Affiliated_base_number'],\n",
       "      dtype='object')"
      ]
     },
     "execution_count": 4,
     "metadata": {},
     "output_type": "execute_result"
    }
   ],
   "source": [
    "fhv_data.columns"
   ]
  },
  {
   "cell_type": "code",
   "execution_count": null,
   "metadata": {},
   "outputs": [],
   "source": [
    "yellow_data"
   ]
  },
  {
   "cell_type": "code",
   "execution_count": null,
   "metadata": {},
   "outputs": [],
   "source": [
    "green_data"
   ]
  },
  {
   "cell_type": "code",
   "execution_count": null,
   "metadata": {},
   "outputs": [],
   "source": [
    "fhv_data"
   ]
  },
  {
   "cell_type": "code",
   "execution_count": null,
   "metadata": {},
   "outputs": [],
   "source": [
    "fhv_data['PUlocationID'].hist(bins=264)"
   ]
  },
  {
   "cell_type": "code",
   "execution_count": null,
   "metadata": {},
   "outputs": [],
   "source": [
    "# fhv_data['PUlocationID'].value_counts()\n",
    "PUlocationID_nan_count = fhv_data['PUlocationID'].isna().sum()\n",
    "\n",
    "print(PUlocationID_nan_count)"
   ]
  },
  {
   "cell_type": "code",
   "execution_count": null,
   "metadata": {},
   "outputs": [],
   "source": [
    "yellow_data['PULocationID'].hist(bins=264)"
   ]
  },
  {
   "cell_type": "code",
   "execution_count": null,
   "metadata": {},
   "outputs": [],
   "source": [
    "green_data['PULocationID'].hist(bins=264)"
   ]
  },
  {
   "cell_type": "code",
   "execution_count": null,
   "metadata": {},
   "outputs": [],
   "source": [
    "green_data.columns"
   ]
  },
  {
   "cell_type": "code",
   "execution_count": null,
   "metadata": {},
   "outputs": [],
   "source": [
    "green_columns_to_drop = ['VendorID',\n",
    "       'store_and_fwd_flag', 'RatecodeID', \n",
    "       'passenger_count', 'trip_distance', 'fare_amount', 'extra', 'mta_tax',\n",
    "       'tip_amount', 'tolls_amount', 'ehail_fee', 'improvement_surcharge',\n",
    "       'total_amount', 'payment_type', 'trip_type', 'congestion_surcharge']"
   ]
  },
  {
   "cell_type": "code",
   "execution_count": null,
   "metadata": {},
   "outputs": [],
   "source": [
    "yellow_data.columns"
   ]
  },
  {
   "cell_type": "code",
   "execution_count": null,
   "metadata": {},
   "outputs": [],
   "source": [
    "columns_to_drop = ['VendorID', 'tpep_dropoff_datetime', 'passenger_count', 'trip_distance', 'RatecodeID', 'store_and_fwd_flag',\n",
    "       'DOLocationID', 'payment_type', 'fare_amount', 'extra',\n",
    "       'mta_tax', 'tip_amount', 'tolls_amount', 'improvement_surcharge',\n",
    "       'total_amount', 'congestion_surcharge', 'Airport_fee']"
   ]
  },
  {
   "cell_type": "code",
   "execution_count": null,
   "metadata": {},
   "outputs": [],
   "source": [
    "relevant_data = yellow_data.drop(columns_to_drop, axis=1)"
   ]
  },
  {
   "cell_type": "code",
   "execution_count": null,
   "metadata": {},
   "outputs": [],
   "source": [
    "relevant_data_green = green_data.drop(green_columns_to_drop, axis= 1)"
   ]
  },
  {
   "cell_type": "code",
   "execution_count": null,
   "metadata": {},
   "outputs": [],
   "source": [
    "relevant_data_green"
   ]
  },
  {
   "cell_type": "code",
   "execution_count": null,
   "metadata": {},
   "outputs": [],
   "source": [
    "relevant_data"
   ]
  },
  {
   "cell_type": "code",
   "execution_count": null,
   "metadata": {},
   "outputs": [],
   "source": [
    "import geopandas as gpd\n",
    "import pandas as pd\n",
    "import matplotlib.pyplot as plt\n",
    "\n",
    "# === 1. Wczytanie danych przejazdów ===\n",
    "print(\"Wczytywanie danych przejazdów...\")\n",
    "df = relevant_data\n",
    "# Wyciągnięcie godziny i dnia tygodnia\n",
    "df[\"hour\"] = df[\"tpep_pickup_datetime\"].dt.hour\n",
    "df[\"day_of_week\"] = df[\"tpep_pickup_datetime\"].dt.dayofweek\n",
    "\n",
    "# Zliczanie przejazdów dla każdej strefy\n",
    "pickup_counts = df.groupby(\"PULocationID\").size().reset_index(name=\"ride_count\")\n",
    "\n",
    "# === 2. Wczytanie mapy NYC Taxi Zones ===\n",
    "print(\"Wczytywanie mapy NYC Taxi Zones...\")\n",
    "zones = gpd.read_file(\"taxi_zones.shp\")  # Pobierz plik z https://www.nyc.gov/assets/tlc/downloads/pdf/taxi_zone_shapefile.zip\n",
    "\n",
    "# Sprawdzenie zgodności kluczy\n",
    "zones[\"LocationID\"] = zones[\"LocationID\"].astype(int)\n",
    "\n",
    "# Połączenie liczby przejazdów z mapą\n",
    "zones = zones.merge(pickup_counts, left_on=\"LocationID\", right_on=\"PULocationID\", how=\"left\")\n",
    "zones[\"ride_count\"] = zones[\"ride_count\"].fillna(0)  # Brakujące wartości → 0 kursów\n",
    "\n",
    "# === 3. Tworzenie heatmapy ===\n",
    "print(\"Tworzenie heatmapy...\")\n",
    "fig, ax = plt.subplots(1, 1, figsize=(12, 8))\n",
    "\n",
    "# Rysowanie mapy z kolorem oznaczającym liczbę kursów\n",
    "zones.plot(column=\"ride_count\", cmap=\"Reds\", linewidth=0.5, edgecolor=\"black\", legend=True, ax=ax)\n",
    "\n",
    "# Dodanie tytułu\n",
    "plt.title(\"Heatmapa liczby przejazdów NYC Taxi - Manhattan\", fontsize=14)\n",
    "plt.axis(\"off\")  # Ukrycie osi\n",
    "\n",
    "# Wyświetlenie mapy\n",
    "plt.show()\n"
   ]
  },
  {
   "cell_type": "code",
   "execution_count": null,
   "metadata": {},
   "outputs": [],
   "source": [
    "df[\"hour\"] = df[\"tpep_pickup_datetime\"].dt.hour\n",
    "df[\"day_of_week\"] = df[\"tpep_pickup_datetime\"].dt.dayofweek"
   ]
  },
  {
   "cell_type": "code",
   "execution_count": null,
   "metadata": {},
   "outputs": [],
   "source": [
    "df.head(10)"
   ]
  },
  {
   "cell_type": "code",
   "execution_count": null,
   "metadata": {},
   "outputs": [],
   "source": []
  },
  {
   "cell_type": "code",
   "execution_count": null,
   "metadata": {},
   "outputs": [],
   "source": []
  },
  {
   "cell_type": "code",
   "execution_count": null,
   "metadata": {},
   "outputs": [],
   "source": [
    "import geopandas as gpd\n",
    "import pandas as pd\n",
    "import matplotlib.pyplot as plt\n",
    "\n",
    "for i in range(2,24):\n",
    "    \n",
    "    filtered = df.query('hour == ' +str(i))\n",
    "    # Zliczanie przejazdów dla każdej strefy\n",
    "    pickup_counts = filtered.groupby(\"PULocationID\").size().reset_index(name=\"ride_count\")\n",
    "\n",
    "    # === 2. Wczytanie mapy NYC Taxi Zones ===\n",
    "    print(\"Wczytywanie mapy NYC Taxi Zones...\")\n",
    "    zones = gpd.read_file(\"taxi_zones.shp\")\n",
    "\n",
    "    # Sprawdzenie zgodności kluczy\n",
    "    zones[\"LocationID\"] = zones[\"LocationID\"].astype(int)\n",
    "\n",
    "    # Połączenie liczby przejazdów z mapą\n",
    "    zones = zones.merge(pickup_counts, left_on=\"LocationID\", right_on=\"PULocationID\", how=\"left\")\n",
    "    zones[\"ride_count\"] = zones[\"ride_count\"].fillna(0)  # Brakujące wartości → 0 kursów\n",
    "\n",
    "    # === 3. Tworzenie heatmapy ===\n",
    "    print(\"Tworzenie heatmapy...\")\n",
    "    fig, ax = plt.subplots(1, 1, figsize=(12, 8))\n",
    "\n",
    "    # Rysowanie mapy z kolorem oznaczającym liczbę kursów\n",
    "    zones.plot(column=\"ride_count\", cmap=\"Reds\", linewidth=0.5, edgecolor=\"black\", legend=True, ax=ax)\n",
    "\n",
    "    # Dodanie tytułu\n",
    "    plt.title(f\"Heatmapa liczby przejazdów NYC Taxi - Manhattan h = {i}\", fontsize=14)\n",
    "    plt.axis(\"off\")  # Ukrycie osi\n",
    "\n",
    "    # Wyświetlenie mapy\n",
    "    # plt.show()\n",
    "\n",
    "\n",
    "    plt.savefig('map_hour_'+ str(i) + '.png')\n"
   ]
  },
  {
   "cell_type": "code",
   "execution_count": null,
   "metadata": {},
   "outputs": [],
   "source": [
    "import geopandas as gpd\n",
    "import pandas as pd\n",
    "\n",
    "\n",
    "# === 1. Wczytanie danych przejazdów ===\n",
    "print(\"Wczytywanie danych przejazdów...\")\n",
    "df = relevant_data_green\n",
    "# Wyciągnięcie godziny i dnia tygodnia\n",
    "df[\"hour\"] = df[\"lpep_pickup_datetime\"].dt.hour\n",
    "df[\"day_of_week\"] = df[\"lpep_pickup_datetime\"].dt.dayofweek\n",
    "\n",
    "# Zliczanie przejazdów dla każdej strefy\n",
    "pickup_counts = df.groupby(\"PULocationID\").size().reset_index(name=\"ride_count\")\n",
    "\n",
    "# === 2. Wczytanie mapy NYC Taxi Zones ===\n",
    "print(\"Wczytywanie mapy NYC Taxi Zones...\")\n",
    "zones = gpd.read_file(\"taxi_zones.shp\")  # Pobierz plik z https://www.nyc.gov/assets/tlc/downloads/pdf/taxi_zone_shapefile.zip\n",
    "\n",
    "# Sprawdzenie zgodności kluczy\n",
    "zones[\"LocationID\"] = zones[\"LocationID\"].astype(int)\n",
    "\n",
    "# Połączenie liczby przejazdów z mapą\n",
    "zones = zones.merge(pickup_counts, left_on=\"LocationID\", right_on=\"PULocationID\", how=\"left\")\n",
    "zones[\"ride_count\"] = zones[\"ride_count\"].fillna(0)  # Brakujące wartości → 0 kursów\n",
    "\n",
    "# === 3. Tworzenie heatmapy ===\n",
    "print(\"Tworzenie heatmapy...\")\n",
    "fig, ax = plt.subplots(1, 1, figsize=(12, 8))\n",
    "\n",
    "# Rysowanie mapy z kolorem oznaczającym liczbę kursów\n",
    "zones.plot(column=\"ride_count\", cmap=\"Reds\", linewidth=0.5, edgecolor=\"black\", legend=True, ax=ax)\n",
    "\n",
    "# Dodanie tytułu\n",
    "plt.title(\"Heatmapa liczby przejazdów NYC Taxi - Manhattan\", fontsize=14)\n",
    "plt.axis(\"off\")  # Ukrycie osi\n",
    "\n",
    "# Wyświetlenie mapy\n",
    "plt.show()\n",
    "\n"
   ]
  },
  {
   "cell_type": "code",
   "execution_count": null,
   "metadata": {},
   "outputs": [],
   "source": [
    "relevant_data_green['PULocationID'].value_counts()"
   ]
  },
  {
   "cell_type": "code",
   "execution_count": null,
   "metadata": {},
   "outputs": [],
   "source": []
  },
  {
   "cell_type": "code",
   "execution_count": null,
   "metadata": {},
   "outputs": [],
   "source": []
  }
 ],
 "metadata": {
  "kernelspec": {
   "display_name": "Python 3",
   "language": "python",
   "name": "python3"
  },
  "language_info": {
   "codemirror_mode": {
    "name": "ipython",
    "version": 3
   },
   "file_extension": ".py",
   "mimetype": "text/x-python",
   "name": "python",
   "nbconvert_exporter": "python",
   "pygments_lexer": "ipython3",
   "version": "3.10.2"
  }
 },
 "nbformat": 4,
 "nbformat_minor": 2
}
