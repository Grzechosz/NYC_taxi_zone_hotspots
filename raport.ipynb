{
 "cells": [
  {
   "cell_type": "markdown",
   "metadata": {},
   "source": [
    "# Cel biznesowy\n",
    "### Optymalizacja rozmieszczenia dostępnych pojazdów w celu minimalizacji czasu oczekiwania klientów na przejazd.  \n",
    "Dzięki identyfikacji kluczowych lokalizacji, w których zapotrzebowanie na przejazdy jest największe, możliwe jest efektywniejsze wykorzystanie floty, zwiększenie liczby realizowanych kursów oraz poprawa satysfakcji klientów. Lepsze dopasowanie podaży do popytu pozwala także na zwiększenie przychodów oraz redukcję kosztów operacyjnych związanych z pustymi przejazdami i nieefektywnym czasem postoju kierowców."
   ]
  },
  {
   "cell_type": "markdown",
   "metadata": {},
   "source": [
    "![alt text](trash/merged_data_maps.gif)"
   ]
  },
  {
   "cell_type": "markdown",
   "metadata": {},
   "source": [
    "# Dane\n",
    "\n",
    "Dane wykorzystane w analizie pochodzą ze zbiorów NYC Taxi and Limousine Commission (TLC). Dostarczane są one przez: \n",
    "- autoryzowanych dostawców technologii w ramach programu Taxicab & Livery Passenger Enhancement Programs (TPEP/LPEP) w przypadku żółtych oraz zielonych taksówek;\n",
    "- przez firmy oferujące przejazdy na żądanie (np. Lyft, Uber) w przypadku For-Hire Vehicle (“FHV”).\n",
    "\n",
    "Dane są ustrukturyzowane i udostępniane w formie plików parquet.",
    "Do analizy wybrałem dane z 2024 roku ponieważ, są to najświeższe dane z pełnego roku w którym nie obowiązują w mieście ograniczenia związane z COVID-19."
   ]
  },
  {
   "cell_type": "markdown",
   "metadata": {},
   "source": [
    "### Metody analizy\n",
    "\n",
    "Do wykonania analizy wybrałem regresję liniową oraz bardziej złożone modele: Random Forest Regressor i XGBoost Regressor. Wybrałem je ze względu na ich zdolność do modelowania nieliniowych zależności oraz wysoką odporność na przeuczenie."
   ]
  },
  {
   "cell_type": "markdown",
   "metadata": {},
   "source": [
    "### Analiza jakości danych źródłowych"
   ]
  },
  {
   "cell_type": "markdown",
   "metadata": {},
   "source": [
    "Zaobserowane przeze mnie  problemy związane z jakością danych źródłowych to wartości brakujące, kursy których godzina zakończenia jest wcześniejsza niż rozpoczęcia, kursy krótsze niż 0 mil, kursy przewożące ujemną liczbę pasażerów. ID stref większe niż 263 (nieistniejące strefy)"
   ]
  },
  {
   "cell_type": "markdown",
   "metadata": {},
   "source": [
    "### Przetwarzanie danych\n",
    "\n",
    "Przetwarzanie danych obejmuje stworzenie kolumn pozwalających na agregację na różnych poziomach czasowych:\n",
    "- dzień\n",
    "- miesiąc\n",
    "- godzina  \n",
    "\n",
    "Jak również obliczenie ilości przejazdów rozpoczętych z konkretnych stref z podziałem na dni i godziny.\n",
    "\n",
    "Przetworzone dane zapisałem w bazie mysql by uniknąć konieczności ciagłego przetwarzania ich od nowa."
   ]
  },
  {
   "cell_type": "markdown",
   "metadata": {},
   "source": [
    "# Budowa modelu predykcyjnego\n",
    "\n",
    "Wczytanie danych"
   ]
  },
  {
   "cell_type": "code",
   "execution_count": null,
   "metadata": {},
   "outputs": [],
   "source": [
    "import pandas as pd\n",
    "from sqlalchemy import create_engine\n",
    "from sklearn.model_selection import train_test_split\n",
    "from sklearn.preprocessing import StandardScaler\n",
    "from sklearn.linear_model import LinearRegression\n",
    "from sklearn.ensemble import RandomForestRegressor\n",
    "from xgboost import XGBRegressor\n",
    "from sklearn.metrics import mean_absolute_error, mean_squared_error, r2_score\n",
    "from sklearn.model_selection import GridSearchCV\n",
    "import numpy as np\n",
    "\n",
    "engine = create_engine('mysql+pymysql://[]user]:[pass]@[host]:[port]/[scheme]', echo=False)\n",
    "\n",
    "df = pd.read_sql(\"SELECT * FROM rides\", con=engine)"
   ]
  },
  {
   "cell_type": "markdown",
   "metadata": {},
   "source": [
    "\n",
    "\n",
    "### Definicja zmiennych wejściowych i wyjściowych,\n",
    "\n",
    "Zmienne wejściowe:\n",
    "\n",
    "- Dzień tygodnia (0 – poniedziałek, 6 – niedziela)\n",
    "- Godzina dnia (0 – 23)\n",
    "- ID strefy (PULocationID) – numer dzielnicy taksówkowej\n",
    "\n",
    "Zmienna wyjściowa:\n",
    "\n",
    "- Liczba przejazdów w danej godzinie i strefie \"ride_count\""
   ]
  },
  {
   "cell_type": "code",
   "execution_count": 2,
   "metadata": {},
   "outputs": [],
   "source": [
    "features = ['hour', 'day_of_week', 'PULocationID']\n",
    "target = 'ride_count'\n",
    "\n",
    "X = df[features]\n",
    "y = df[target]"
   ]
  },
  {
   "cell_type": "markdown",
   "metadata": {},
   "source": [
    "### Metryki oceny jakości modeli,\n",
    "\n",
    "Mean Absolute Error (MAE) – średnia różnica między przewidywaną a rzeczywistą liczbą kursów  \n",
    "Mean Squared Error (MSE) / RMSE – kara za duże błędy, RMSE podkreśla większe różnice  \n",
    "R² Score – miara dopasowania modelu"
   ]
  },
  {
   "cell_type": "markdown",
   "metadata": {},
   "source": [
    "### Podział danych\n",
    "Dane zostały podzielone na dane treningowe (70%) oraz zbiór testowy (15%) i walidacyjny (15%) do dostrajania hiperparametrów"
   ]
  },
  {
   "cell_type": "code",
   "execution_count": 3,
   "metadata": {},
   "outputs": [],
   "source": [
    "X_train, X_temp, y_train, y_temp = train_test_split(X, y, test_size=0.3, random_state=42)\n",
    "X_val, X_test, y_val, y_test = train_test_split(X_temp, y_temp, test_size=0.5, random_state=42)"
   ]
  },
  {
   "cell_type": "markdown",
   "metadata": {},
   "source": [
    "### Trenowanie"
   ]
  },
  {
   "cell_type": "code",
   "execution_count": 5,
   "metadata": {},
   "outputs": [
    {
     "name": "stdout",
     "output_type": "stream",
     "text": [
      "Linear Regression Model Performance:\n",
      "  - MAE: 94.4433\n",
      "  - RMSE: 141.6187\n",
      "  - R² Score: 0.0635\n",
      "Random Forest Model Performance:\n",
      "  - MAE: 17.1920\n",
      "  - RMSE: 37.3758\n",
      "  - R² Score: 0.9348\n",
      "XGBoost Model Performance:\n",
      "  - MAE: 42.7533\n",
      "  - RMSE: 69.9432\n",
      "  - R² Score: 0.7716\n"
     ]
    }
   ],
   "source": [
    "# Scaling the features for better performance (only for linear regression)\n",
    "scaler = StandardScaler()\n",
    "X_train_scaled = scaler.fit_transform(X_train)\n",
    "X_test_scaled = scaler.transform(X_test)\n",
    "\n",
    "# Linear Regression\n",
    "lr = LinearRegression()\n",
    "lr.fit(X_train_scaled, y_train)\n",
    "y_pred_lr = lr.predict(X_test_scaled)\n",
    "\n",
    "# Random Forest Regressor\n",
    "rf = RandomForestRegressor(n_estimators=100, random_state=42)\n",
    "rf.fit(X_train, y_train)\n",
    "y_pred_rf = rf.predict(X_test)\n",
    "\n",
    "# XGBoost Regressor\n",
    "xgb_reg = XGBRegressor(objective=\"reg:squarederror\", n_estimators=100, learning_rate=0.1, random_state=42)\n",
    "xgb_reg.fit(X_train, y_train)\n",
    "y_pred_xgb = xgb_reg.predict(X_test)\n",
    "\n",
    "# Evaluation\n",
    "def evaluate_model(model_name, y_test, y_pred):\n",
    "    print(f\"{model_name} Model Performance:\")\n",
    "    print(f\"  - MAE: {mean_absolute_error(y_test, y_pred):.4f}\")\n",
    "    print(f\"  - RMSE: {np.sqrt(mean_squared_error(y_test, y_pred)):.4f}\")\n",
    "    print(f\"  - R² Score: {r2_score(y_test, y_pred):.4f}\")\n",
    "\n",
    "evaluate_model(\"Linear Regression\", y_test, y_pred_lr)\n",
    "evaluate_model(\"Random Forest\", y_test, y_pred_rf)\n",
    "evaluate_model(\"XGBoost\", y_test, y_pred_xgb)"
   ]
  },
  {
   "cell_type": "markdown",
   "metadata": {},
   "source": [
    "### Dostrajanie hiperparametrów modelu XGBoost"
   ]
  },
  {
   "cell_type": "code",
   "execution_count": null,
   "metadata": {},
   "outputs": [],
   "source": [
    "xgb = XGBRegressor(objective=\"reg:squarederror\", random_state=42)\n",
    "\n",
    "param_grid = {\n",
    "    'n_estimators': [100, 300, 500],  \n",
    "    'max_depth': [3, 6, 9],  \n",
    "    'learning_rate': [0.01, 0.05, 0.1],  \n",
    "    'subsample': [0.8, 1.0],  \n",
    "    'colsample_bytree': [0.8, 1.0]  \n",
    "}\n",
    "\n",
    "grid_search = GridSearchCV(\n",
    "    estimator=xgb,\n",
    "    param_grid=param_grid,\n",
    "    scoring='neg_mean_squared_error',\n",
    "    cv=5,\n",
    "    verbose=2,\n",
    "    n_jobs=-1\n",
    ")\n",
    "\n",
    "grid_search.fit(X_train, y_train)\n",
    "\n",
    "print(\"Najlepsze parametry:\", grid_search.best_params_)\n",
    "\n",
    "best_xgb = grid_search.best_estimator_\n",
    "y_pred = best_xgb.predict(X_test)\n",
    "\n",
    "print(f\"MAE: {mean_absolute_error(y_test, y_pred):.4f}\")\n",
    "print(f\"RMSE: {np.sqrt(mean_squared_error(y_test, y_pred)):.4f}\")\n",
    "print(f\"R² Score: {r2_score(y_test, y_pred):.4f}\")\n"
   ]
  },
  {
   "cell_type": "markdown",
   "metadata": {},
   "source": [
    "### Rezultaty"
   ]
  },
  {
   "cell_type": "markdown",
   "metadata": {},
   "source": [
    "| Model                  | MAE     | RMSE    | R² Score |\n",
    "|------------------------|---------|---------|----------|\n",
    "| Linear Regression       | 94.4433 | 141.6187 | 0.0635   |\n",
    "| Random Forest           | 17.1920 | 37.3758  | 0.9348   |\n",
    "| XGBoost (before tuning) | 42.7533 | 69.9432  | 0.7716   |\n",
    "| XGBoost (after tuning)  | 19.0686 | 40.1113  | 0.9249   |\n",
    "\n",
    "Najgorzej z modelowaniem problemu poradził sobie prosty model regresji liniowej. Las losowy uzyskał najlepsze wyniki wskazuje na to wysoka wartość współczyninika determinacji R^2. Podobną wartość uzyskał model XGBoost po przeprowadzeniu dostrajania hiperparametrów."
   ]
  },
  {
   "cell_type": "markdown",
   "metadata": {},
   "source": [
    "# Podsumowanie\n",
    "\n",
    "Dzięki zastosowaniu modeli regresyjnych możliwe jest zidentyfikowanie stref z największą ilością spodziewanych potencjalnych klientów. Modele takie mogą pozwolić kierowcom taksówek na skrócenie czasu oczekiwania na kolejnego klienta. \n",
    "\n",
    "![alt text](image.png)\n",
    "\n",
    "Przewidywana liczba przejazdów dla poszczególnych stref w środę o godzinie 14-stej."
   ]
  }
 ],
 "metadata": {
  "kernelspec": {
   "display_name": "Python 3",
   "language": "python",
   "name": "python3"
  },
  "language_info": {
   "codemirror_mode": {
    "name": "ipython",
    "version": 3
   },
   "file_extension": ".py",
   "mimetype": "text/x-python",
   "name": "python",
   "nbconvert_exporter": "python",
   "pygments_lexer": "ipython3",
   "version": "3.10.2"
  }
 },
 "nbformat": 4,
 "nbformat_minor": 2
}
